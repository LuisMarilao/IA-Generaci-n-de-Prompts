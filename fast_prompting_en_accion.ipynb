{
 "cells": [
  {
   "cell_type": "markdown",
   "id": "1e9a70fd",
   "metadata": {},
   "source": [
    "**Lector de percepción pública político - social**"
   ]
  },
  {
   "cell_type": "markdown",
   "id": "6f279eb4",
   "metadata": {},
   "source": [
    "A través de entregar diferentes noticias a nivel nacional, este flujo de prompting tiene como fin dar un análisis del acontecer nacional con una perspectiva política y social con el fin de acercar a la población al reconocimiento de tensiones públicas y así, por ejemplo:\n",
    "1. Solicitar a sus políticos, ya sea comunales, municipales y/o gubernamentales, a tomar acción\n",
    "2. Aportar con iniciativas dentro de una empresa para involucrar a StakeHolders\n",
    "3. Ser de ayuda para establecer hipótesis para posteriores investigaciones educacionales"
   ]
  },
  {
   "cell_type": "markdown",
   "id": "f48d1e4f-5bf0-4291-9f10-e4fa452dfee6",
   "metadata": {},
   "source": [
    "1. Librerías y dependencias"
   ]
  },
  {
   "cell_type": "code",
   "execution_count": 1,
   "id": "6f5e6bba-f9b0-4d27-a0c2-ceede346e2fd",
   "metadata": {
    "scrolled": true
   },
   "outputs": [],
   "source": [
    "#Módulos a importar\n",
    "#import openai\n",
    "#import ipykernel\n",
    "#import notebook\n",
    "import openai"
   ]
  },
  {
   "cell_type": "markdown",
   "id": "6180968b-5de0-4e1d-91e1-bb0607b62ebe",
   "metadata": {},
   "source": [
    "2. Configuración de cliente junto con su API_KEY"
   ]
  },
  {
   "cell_type": "code",
   "execution_count": null,
   "id": "aaa13f6c-6aee-4ddd-92b7-33dbbf66ea3c",
   "metadata": {},
   "outputs": [],
   "source": [
    "#Add our API Key copied from openAI page\n",
    "client = openai.OpenAI(api_key=\"API_KEY\")\n"
   ]
  },
  {
   "cell_type": "markdown",
   "id": "133396b5-0a78-4b9a-a1c0-8c81d7744f9b",
   "metadata": {},
   "source": [
    "3. Se adjuntan declaraciones extraídas de internet (input demostrativo)"
   ]
  },
  {
   "cell_type": "code",
   "execution_count": 3,
   "id": "f7c1fc76-a9ea-4df9-9324-d83bba8bfc0c",
   "metadata": {
    "scrolled": true
   },
   "outputs": [],
   "source": [
    "# Declaraciones reales o extraídas manualmente\n",
    "noticia_1 = {\n",
    "\"El 9 de junio de 2025, el Senado de Chile inició sumarios administrativos contra 14 funcionarios por viajar al extranjero mientras se encontraban con licencia médica. \"\n",
    "\"Esta acción responde a un informe de la Contraloría que reveló que más de 25.000 funcionarios públicos realizaron viajes internacionales durante sus permisos médicos,\"\n",
    "\" aunque el informe no incluyó a organismos autónomos como el Poder Judicial y el Ministerio Público. Dado que la Contraloría no tiene competencia sobre el Congreso, el Senado, \"\n",
    "\"la Cámara de Diputados y la Biblioteca del Congreso han iniciado sus propias investigaciones. El Senado solicitó a la Policía de Investigaciones datos sobre salidas al exterior de sus \"\n",
    "\"funcionarios, y los resultados mostraron que 14 empleados realizaron 20 viajes internacionales durante sus licencias médicas. Los sumarios administrativos buscan \"\n",
    "\"determinar responsabilidades y posibles sanciones. \"\n",
    "}\n",
    "\n",
    "noticia_2 = {\n",
    "    \"En mayo de 2025, las exportaciones chilenas aumentaron un 6,3% interanual, alcanzando los 8.490 millones de dólares, a pesar de los aranceles del 10% impuestos por Estados Unidos \"\n",
    "    \"en el marco de una guerra comercial iniciada en febrero de ese año. Este incremento se atribuye principalmente al cobre, cuya exportación creció un 4,4% hasta los 4.476 millones\"\n",
    "    \" de dólares. El cobre chileno está temporalmente excluido de los aranceles estadounidenses mientras se investiga si su alta dependencia representa un riesgo para la \"\n",
    "    \"seguridad nacional de EE.UU. Además, el sector frutícola experimentó un crecimiento del 9,3%, alcanzando los 472 millones de dólares en exportaciones. \"\n",
    "    \"Por otro lado, las importaciones chilenas aumentaron un 8,4% interanual, totalizando 7.487 millones de dólares, lo que resultó en un superávit comercial de 1.517 millones \"\n",
    "    \"de dólares en mayo. China continúa siendo el principal socio comercial de Chile, con un intercambio que se ha expandido a una tasa promedio anual del 11%, seguido de Estados Unidos.\"\n",
    "}\n",
    "\n",
    "noticia_3 = {\n",
    "\"El 9 de junio de 2025, la directora de Presupuestos (Dipres), Javiera Martínez, informó que la compra de la casa de Salvador Allende no contaba con una \"\n",
    "\"asignación específica en la Ley de Presupuestos 2024. Aunque el monto global aprobado por el Congreso incluía recursos para este proyecto, no se detalló explícitamente en la ley. \"\n",
    "\"Martínez explicó que el proyecto inicialmente fue clasificado como una iniciativa de inversión bajo el artículo 31, \"\n",
    "\"pero luego se modificó para ser considerado como adquisición de un inmueble, pasando al subtítulo 29 destinado a la compra de activos no financieros. \"\n",
    "\"Defendió la flexibilidad fiscal como una herramienta necesaria para una gestión eficiente y negó intentos de engañar al Congreso. \"\n",
    "\"Esta compra está siendo investigada por una comisión de la Cámara de Diputados debido a la falta de transparencia en el proceso. \"\n",
    "}\n",
    "\n",
    "noticia_4 = {\n",
    "\"El 9 de junio de 2025, la Contraloría General de la República de Chile publicó un informe que revela que el 90% de los municipios del país no han cumplido con la obligación de remitir\"\n",
    "\" a la Subsecretaría de Prevención del Delito toda la documentación relacionada con sus Planes Comunales de Seguridad Pública y las sesiones del Consejo Comunal de Seguridad Pública entre 2024 y 2025. De los 342 municipios evaluados,\"\n",
    "\" 110 se encuentran en la categoría de urgentes, es decir, presentan un mayor riesgo de vulnerabilidad socio-delictual. Entre ellos se destacan comunas como La Florida, La Pintana y Puerto Montt. Además, a febrero de 2025,\"\n",
    "\" 24 municipios tenían sus planes vencidos y 40 no los habían enviado a la Subsecretaría, lo que aumenta la probabilidad de acciones improvisadas y descoordinadas para el combate de la delincuencia. \"\n",
    "\"La Contraloría enfatiza que la falta de un Plan de Seguridad Comunal dificulta la prevención de delitos y afecta la calidad de vida de los habitantes de las comunas.\"\n",
    "}\n",
    "\n",
    "noticia_5 = {\n",
    "\"El Senado chileno aprobó una reforma al sistema político que ahora pasará a la Cámara de Diputados. La iniciativa establece un umbral del 5 % de votación nacional para que los partidos puedan obtener escaños en la Cámara, con una excepción transitoria del 4 % para las elecciones de 2025. Además, los parlamentarios que abandonen el partido con el que fueron electos perderán su escaño, salvo que existan cambios sustanciales en los principios del partido.\"\n",
    "\"La reforma busca reducir la fragmentación política y fortalecer los partidos, pero generó críticas desde sectores como el Partido Comunista, que considera que el umbral afectará a las minorías. El artículo sobre pérdida del escaño fue aprobado por 31 votos a favor y 6 en contra, mientras que el umbral fue respaldado con 30 votos a favor y 15 en contra.\"\n",
    "\"El Gobierno anunció que presentará una ley complementaria para facilitar la implementación de estas medidas, abordando aspectos técnicos y legales. Esta reforma forma parte de un intento por mejorar la gobernabilidad y modernizar el sistema político chileno.\"\n",
    "}\n",
    "\n",
    "# Lista de declaraciones\n",
    "noticias = [noticia_1, noticia_2, noticia_3, noticia_4, noticia_5]\n"
   ]
  },
  {
   "cell_type": "markdown",
   "id": "e6e00de9",
   "metadata": {},
   "source": [
    "4.1 Se genera primera iteración de prompting"
   ]
  },
  {
   "cell_type": "code",
   "execution_count": 4,
   "id": "1b722034",
   "metadata": {},
   "outputs": [],
   "source": [
    "#Contexto\n",
    "contexto = \"Eres un analista social-político chileno con formación en ciencias sociales. Eres riguroso, neutral y basas tus respuestas solo en los textos proporcionados.\"\n",
    "# Armar el mensaje para GPT\n",
    "prompt_usuario = f\"\"\"\n",
    "Analiza las siguientes noticias públicas del acontecer chileno realizadas en el último tiempo del año 2025.\n",
    "\n",
    "Para cada una de ellas, entrega el análisis en una tabla con las siguientes filas:\n",
    "\n",
    "1. Contexto  \n",
    "2. Lenguaje dominante (técnico, emocional, populista, institucional, etc.)  \n",
    "3. Tensión social o política (si la hay, especificar)  \n",
    "4. Actores involucrados  \n",
    "5. Nivel de impacto (local, regional, nacional, internacional)  \n",
    "6. Tipo de acción del Estado (política pública, sanción, transparencia, etc.)  \n",
    "7. Valor democrático comprometido (transparencia, legalidad, representación, etc.)\n",
    "8. Grupo social afectado o vulnerable (si aplica)\n",
    "9. Reacción probable de la opinión pública  \n",
    "10. Institución o tipo de fuente mencionada\n",
    "\n",
    "Noticias:\n",
    "{noticias}\n",
    "\"\"\"\n",
    "\n"
   ]
  },
  {
   "cell_type": "code",
   "execution_count": 5,
   "id": "84baf184",
   "metadata": {},
   "outputs": [
    {
     "name": "stdout",
     "output_type": "stream",
     "text": [
      "| Noticia 1 |\n",
      "|---|\n",
      "| **Contexto** | El Senado de Chile inició sumarios administrativos contra funcionarios por viajar al extranjero estando con licencia médica, en base a un informe de la Contraloría. |\n",
      "| **Lenguaje dominante** | Técnico, institucional. |\n",
      "| **Tensión social o política** | Posible descontento sobre el uso indebido de licencias médicas por parte de funcionarios públicos. |\n",
      "| **Actores involucrados** | Senado, Contraloría, Policía de Investigaciones. |\n",
      "| **Nivel de impacto** | Nacional. |\n",
      "| **Tipo de acción del Estado** | Sumarios administrativos, investigaciones. |\n",
      "| **Valor democrático comprometido** | Transparencia, legalidad. |\n",
      "| **Grupo social afectado o vulnerable** | No aplica. |\n",
      "| **Reacción probable de la opinión pública** | Exigir transparencia y responsabilidad en el uso de recursos públicos. |\n",
      "| **Institución o tipo de fuente mencionada** | Contraloría, Policía de Investigaciones. |\n",
      "\n",
      "| Noticia 2 |\n",
      "|---|\n",
      "| **Contexto** | Aumento de exportaciones chilenas a pesar de aranceles impuestos por Estados Unidos, principalmente impulsadas por el cobre y el sector frutícola. |\n",
      "| **Lenguaje dominante** | Técnico, económico. |\n",
      "| **Tensión social o política** | Posible preocupación por relaciones comerciales internacionales y dependencia del cobre. |\n",
      "| **Actores involucrados** | Estados Unidos, China. |\n",
      "| **Nivel de impacto** | Internacional. |\n",
      "| **Tipo de acción del Estado** | No se describe acción específica del Estado. |\n",
      "| **Valor democrático comprometido** | No se evidencia compromiso democrático. |\n",
      "| **Grupo social afectado o vulnerable** | No aplica. |\n",
      "| **Reacción probable de la opinión pública** | Inquietud ante posibles impactos económicos. |\n",
      "| **Institución o tipo de fuente mencionada** | No se menciona fuente específica. |\n",
      "\n",
      "| Noticia 3 |\n",
      "|---|\n",
      "| **Contexto** | Problemas de transparencia en la compra de la casa de Salvador Allende, cuyo financiamiento no fue detallado en la Ley de Presupuestos. |\n",
      "| **Lenguaje dominante** | Técnico, institucional. |\n",
      "| **Tensión social o política** | Posible desconfianza hacia la gestión de recursos públicos. |\n",
      "| **Actores involucrados** | Dirección de Presupuestos, Cámara de Diputados. |\n",
      "| **Nivel de impacto** | Nacional. |\n",
      "| **Tipo de acción del Estado** | Investigación por falta de transparencia. |\n",
      "| **Valor democrático comprometido** | Transparencia. |\n",
      "| **Grupo social afectado o vulnerable** | No aplica. |\n",
      "| **Reacción probable de la opinión pública** | Exigir claridad y rendición de cuentas en el uso de recursos públicos. |\n",
      "| **Institución o tipo de fuente mencionada** | Dirección de Presupuestos, Cámara de Diputados. |\n",
      "\n",
      "| Noticia 4 |\n",
      "|---|\n",
      "| **Contexto** | Informe de la Contraloría sobre incumplimiento de obligaciones en municipios chilenos con respecto a planes de seguridad pública. |\n",
      "| **Lenguaje dominante** | Técnico, institucional. |\n",
      "| **Tensión social o política** | Preocupación por la prevención del delito y seguridad ciudadana. |\n",
      "| **Actores involucrados** | Contraloría, Subsecretaría de Prevención del Delito, municipios. |\n",
      "| **Nivel de impacto** | Nacional. |\n",
      "| **Tipo de acción del Estado** | Publicación de informe. |\n",
      "| **Valor democrático comprometido** | Seguridad, calidad de vida. |\n",
      "| **Grupo social afectado o vulnerable** | Habitantes de comunas con planes de seguridad deficiente. |\n",
      "| **Reacción probable de la opinión pública** | Demandar acciones concretas para mejorar la seguridad ciudadana. |\n",
      "| **Institución o tipo de fuente mencionada** | Contraloría, Subsecretaría de Prevención del Delito. |\n"
     ]
    }
   ],
   "source": [
    "# Mensaje de sistema y usuario\n",
    "messages = [\n",
    "    {\"role\": \"system\", \"content\": contexto},\n",
    "    {\"role\": \"user\", \"content\": prompt_usuario}\n",
    "]\n",
    "\n",
    "# Llamada al modelo\n",
    "response = client.chat.completions.create(\n",
    "    model=\"gpt-3.5-turbo\",\n",
    "    messages=messages,\n",
    "    max_tokens=3000\n",
    ")\n",
    "\n",
    "# Mostrar la tabla generada\n",
    "print(response.choices[0].message.content)\n",
    "# Guardar la respuesta en una variable\n",
    "tabla_analisis = response.choices[0].message.content"
   ]
  },
  {
   "cell_type": "markdown",
   "id": "5885510d",
   "metadata": {},
   "source": [
    "4.2 Se genera segunda iteración de prompting dado el output de la primera iteración"
   ]
  },
  {
   "cell_type": "code",
   "execution_count": 6,
   "id": "86e1a2fa",
   "metadata": {},
   "outputs": [],
   "source": [
    "#Contexto\n",
    "contexto_2 = \"Eres un analista social-político chileno con formación en ciencias sociales.\"\n",
    "# Armar el mensaje para GPT\n",
    "prompt_usuario_2 = f\"\"\"\n",
    "Analiza la siguiente tabla de análisis de noticias públicas del acontecer chileno, notando relaciones entre las distintas noticias y sus implicancias sociales,políticas y económicas.\n",
    "Entrega propuestas de iniciativas o acciones que podrían tomarse para abordar las problemáticas identificadas.\n",
    "\n",
    "Tabla de análisis:\n",
    "{tabla_analisis}\n",
    "\"\"\""
   ]
  },
  {
   "cell_type": "code",
   "execution_count": 7,
   "id": "b81f67bf",
   "metadata": {},
   "outputs": [],
   "source": [
    "messages_2 = [\n",
    "    {\"role\": \"system\", \"content\": contexto_2},\n",
    "    {\"role\": \"user\", \"content\": prompt_usuario_2}\n",
    "]\n",
    "\n",
    "# Llamada al modelo\n",
    "response_2 = client.chat.completions.create(\n",
    "    model=\"gpt-3.5-turbo\",\n",
    "    messages=messages_2,\n",
    "    max_tokens=3000\n",
    ")\n",
    "\n",
    "\n"
   ]
  },
  {
   "cell_type": "markdown",
   "id": "9b7e1070",
   "metadata": {},
   "source": [
    "5. Resultado"
   ]
  },
  {
   "cell_type": "code",
   "execution_count": 8,
   "id": "6d256d39",
   "metadata": {},
   "outputs": [
    {
     "name": "stdout",
     "output_type": "stream",
     "text": [
      "Al analizar la información presentada en la tabla de análisis de noticias públicas del acontecer chileno, podemos identificar diversas problemáticas con implicancias sociales, políticas y económicas. A continuación, se presentan algunas reflexiones sobre cada noticia y posibles iniciativas para abordar las problemáticas identificadas:\n",
      "\n",
      "1. **Noticia 1: Uso indebido de licencias médicas por funcionarios públicos**\n",
      "   - **Problemática**: La posible utilización inapropiada de licencias médicas por parte de funcionarios públicos puede generar descontento en la sociedad respecto al uso ético de los recursos públicos.\n",
      "   - **Iniciativas sugeridas**: Implementar mecanismos de control más rigurosos para verificar la veracidad de las licencias médicas, establecer sanciones claras para quienes incurran en este tipo de prácticas y promover una cultura de transparencia y responsabilidad en la función pública.\n",
      "\n",
      "2. **Noticia 2: Aumento de exportaciones chilenas a pesar de aranceles impuestos por Estados Unidos**\n",
      "   - **Problemática**: La posible dependencia del sector exportador chileno, especialmente del cobre y el sector frutícola, en las relaciones comerciales internacionales puede generar inquietud en la sociedad ante posibles impactos económicos.\n",
      "   - **Iniciativas sugeridas**: Diversificar los mercados de exportación, promover la innovación en sectores menos tradicionales, impulsar la capacidad productiva nacional y fortalecer acuerdos comerciales con diversos países para reducir la vulnerabilidad frente a posibles restricciones comerciales.\n",
      "\n",
      "3. **Noticia 3: Falta de transparencia en la compra de la casa de Salvador Allende**\n",
      "   - **Problemática**: La falta de claridad en el financiamiento de la compra de la casa de Salvador Allende puede generar desconfianza en la gestión de recursos públicos y cuestionamientos sobre la transparencia en la administración estatal.\n",
      "   - **Iniciativas sugeridas**: Establecer mecanismos de rendición de cuentas más transparentes y detallados, garantizar la trazabilidad de los recursos públicos destinados a proyectos específicos y promover una mayor fiscalización ciudadana sobre el uso de los fondos del Estado.\n",
      "\n",
      "4. **Noticia 4: Incumplimiento de obligaciones en municipios chilenos respecto a planes de seguridad pública**\n",
      "   - **Problemática**: El incumplimiento de obligaciones en municipios chilenos en materia de seguridad pública puede generar preocupación en la población respecto a la prevención del delito y la calidad de vida en las comunidades.\n",
      "   - **Iniciativas sugeridas**: Fortalecer la coordinación entre los entes responsables de la seguridad ciudadana, implementar medidas correctivas en comunas con planes deficientes, involucrar activamente a la comunidad en la elaboración y ejecución de planes de seguridad y mejorar la supervisión de las acciones municipales en esta materia.\n",
      "\n",
      "En general, las iniciativas propuestas se centran en fortalecer la transparencia, promover la responsabilidad en el uso de recursos públicos, diversificar la economía para reducir dependencias externas y mejorar la seguridad ciudadana a nivel local. Estas acciones podrían contribuir a abordar las problemáticas identificadas y fortalecer el entorno social, político y económico en Chile.\n"
     ]
    }
   ],
   "source": [
    "# Mostrar la tabla generada\n",
    "print(response_2.choices[0].message.content)"
   ]
  }
 ],
 "metadata": {
  "kernelspec": {
   "display_name": "IA-Generaci-n-de-Prompts",
   "language": "python",
   "name": "python3"
  },
  "language_info": {
   "codemirror_mode": {
    "name": "ipython",
    "version": 3
   },
   "file_extension": ".py",
   "mimetype": "text/x-python",
   "name": "python",
   "nbconvert_exporter": "python",
   "pygments_lexer": "ipython3",
   "version": "3.10.10"
  }
 },
 "nbformat": 4,
 "nbformat_minor": 5
}
